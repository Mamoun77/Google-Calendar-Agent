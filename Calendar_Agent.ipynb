{
 "cells": [
  {
   "cell_type": "code",
   "execution_count": 1,
   "id": "8a52b77a",
   "metadata": {},
   "outputs": [],
   "source": [
    "from dotenv import load_dotenv\n",
    "load_dotenv('values.env')\n",
    "from langsmith import traceable"
   ]
  },
  {
   "cell_type": "code",
   "execution_count": 7,
   "id": "f5e6e50c",
   "metadata": {},
   "outputs": [],
   "source": [
    "from google.oauth2.credentials import Credentials\n",
    "from google_auth_oauthlib.flow import InstalledAppFlow\n",
    "from google.auth.transport.requests import Request\n",
    "from googleapiclient.discovery import build\n",
    "from langchain.tools import tool\n",
    "from langchain_core.tools import tool\n",
    "import os.path\n",
    "import pickle\n",
    "from typing import Optional\n",
    "\n",
    "SCOPES = ['https://www.googleapis.com/auth/calendar']\n",
    "\n",
    "@traceable\n",
    "def get_calendar_service():\n",
    "    \"\"\"Authenticate and return calendar service.\"\"\"\n",
    "    creds = None\n",
    "    if os.path.exists('token.pickle'):\n",
    "        with open('token.pickle', 'rb') as token:\n",
    "            creds = pickle.load(token)\n",
    "    \n",
    "    if not creds or not creds.valid:\n",
    "        if creds and creds.expired and creds.refresh_token:\n",
    "            creds.refresh(Request())\n",
    "        else:\n",
    "            flow = InstalledAppFlow.from_client_secrets_file(\n",
    "                'client_secret_961240229011-6vncaf9dgjrre9k9no49l18h7v5k91a5.apps.googleusercontent.com.json', SCOPES)\n",
    "            creds = flow.run_local_server(port=0)\n",
    "        \n",
    "        with open('token.pickle', 'wb') as token:\n",
    "            pickle.dump(creds, token)\n",
    "    \n",
    "    return build('calendar', 'v3', credentials=creds)\n",
    "\n",
    "@tool\n",
    "@traceable\n",
    "def list_calendars() -> str:\n",
    "    \"\"\"\n",
    "    List all available Google calendars.\n",
    "    \n",
    "    Returns:\n",
    "    \n",
    "        List of calendar names and IDs\n",
    "    \"\"\"\n",
    "    try:\n",
    "        service = get_calendar_service()\n",
    "        calendars = service.calendarList().list().execute()\n",
    "        \n",
    "        result = \"Available calendars:\\n\"\n",
    "        for cal in calendars.get('items', []):\n",
    "            result += f\"- {cal['summary']} (ID: {cal['id']})\\n\"\n",
    "        return result\n",
    "    except Exception as e:\n",
    "        return f\"Error listing calendars: {str(e)}\"\n",
    "\n",
    "@tool\n",
    "@traceable\n",
    "def create_calendar_event(\n",
    "    summary: str,\n",
    "    start_time: str,\n",
    "    end_time: str,\n",
    "    calendar_id: str = \"primary\",\n",
    "    description: Optional[str] = None,\n",
    "    location: Optional[str] = None,\n",
    "    timezone: str = \"America/New_York\"\n",
    ") -> str:\n",
    "    \"\"\"\n",
    "    Create a Google Calendar event.\n",
    "    \n",
    "    Args:\n",
    "        summary: Event title\n",
    "        start_time: Start time in ISO 8601 format (e.g., '2025-10-15T10:00:00')\n",
    "        end_time: End time in ISO 8601 format (e.g., '2025-10-15T11:00:00')\n",
    "        calendar_id: Calendar ID (the appropriate calendar ID to add the event to)\n",
    "        description: Event description (optional)\n",
    "        location: Event location (optional)\n",
    "        timezone: Timezone (default: America/New_York)\n",
    "    \n",
    "    Returns:\n",
    "        Success message with event link\n",
    "    \"\"\"\n",
    "    try:\n",
    "        service = get_calendar_service()\n",
    "        \n",
    "        event = {\n",
    "            'summary': summary,\n",
    "            'start': {\n",
    "                'dateTime': start_time,\n",
    "                'timeZone': timezone,\n",
    "            },\n",
    "            'end': {\n",
    "                'dateTime': end_time,\n",
    "                'timeZone': timezone,\n",
    "            },\n",
    "        }\n",
    "        \n",
    "        if description:\n",
    "            event['description'] = description\n",
    "        if location:\n",
    "            event['location'] = location\n",
    "        \n",
    "        created_event = service.events().insert(calendarId=calendar_id, body=event).execute()\n",
    "        return f\"Event created successfully: {created_event.get('htmlLink')}\"\n",
    "    except Exception as e:\n",
    "        return f\"Error creating event: {str(e)}\"\n",
    "\n"
   ]
  },
  {
   "cell_type": "code",
   "execution_count": 9,
   "id": "c5a42f59",
   "metadata": {},
   "outputs": [],
   "source": [
    "tools=[list_calendars, create_calendar_event]\n",
    "tools_by_name={ tool.name:tool for tool in tools}"
   ]
  },
  {
   "cell_type": "code",
   "execution_count": 8,
   "id": "e8fc2a82",
   "metadata": {},
   "outputs": [],
   "source": [
    "from langchain_openai import ChatOpenAI\n",
    "\n",
    "model = ChatOpenAI(\n",
    "    base_url=\"https://81db01e1b163.ngrok-free.app/v1\",\n",
    "    model=\"qwen/qwen3-4b-2507\",\n",
    "    api_key=\"Doesn't need one\" # type: ignore\n",
    ")"
   ]
  },
  {
   "cell_type": "code",
   "execution_count": 10,
   "id": "3de47c8e",
   "metadata": {},
   "outputs": [],
   "source": [
    "from langchain_core.prompts import ChatPromptTemplate, MessagesPlaceholder\n",
    "from langchain_core.messages import BaseMessage, HumanMessage, AIMessage, ToolMessage, SystemMessage\n",
    "\n",
    "chat_prompt = ChatPromptTemplate.from_messages([\n",
    "    (\"system\", \"\"\"\n",
    "You are a helpful AI assistant that thinks step-by-step and uses tools when needed.\n",
    "\n",
    "When responding to queries:\n",
    "1. First, think about what information you need\n",
    "2. Use available tools if you need current data or specific capabilities  \n",
    "3. Provide clear, helpful responses based on your reasoning and any tool results\n",
    "\n",
    "Always explain your thinking process to help users understand your approach.\n",
    "\"\"\"),\n",
    "    MessagesPlaceholder(variable_name=\"scratch_pad\")\n",
    "])"
   ]
  },
  {
   "cell_type": "code",
   "execution_count": 11,
   "id": "d179ff2a",
   "metadata": {},
   "outputs": [],
   "source": [
    "model_react=chat_prompt | model.bind_tools(tools)"
   ]
  },
  {
   "cell_type": "code",
   "execution_count": 12,
   "id": "d99c74c1",
   "metadata": {},
   "outputs": [],
   "source": [
    "from typing import (Annotated,Sequence,TypedDict)\n",
    "from langchain_core.messages import BaseMessage\n",
    "from langgraph.graph.message import add_messages\n",
    "\n",
    "class AgentState(TypedDict):\n",
    "    \"\"\"The state of the agent.\"\"\"\n",
    "\n",
    "    # add_messages is a reducer\n",
    "    # See https://langchain-ai.github.io/langgraph/concepts/low_level/#reducers\n",
    "    messages: Annotated[Sequence[BaseMessage], add_messages]"
   ]
  },
  {
   "cell_type": "code",
   "execution_count": 13,
   "id": "ec910f9b",
   "metadata": {},
   "outputs": [],
   "source": [
    "@traceable\n",
    "def tool_node(state: AgentState):\n",
    "    \"\"\"Execute all tool calls from the last message in the state.\"\"\"\n",
    "    outputs = []\n",
    "    for tool_call in state[\"messages\"][-1].tool_calls:\n",
    "        tool_result = tools_by_name[tool_call[\"name\"]].invoke(tool_call[\"args\"])\n",
    "        outputs.append(\n",
    "            ToolMessage(\n",
    "                content=json.dumps(tool_result),\n",
    "                name=tool_call[\"name\"],\n",
    "                tool_call_id=tool_call[\"id\"],\n",
    "            )\n",
    "        )\n",
    "    return {\"messages\": outputs}"
   ]
  },
  {
   "cell_type": "code",
   "execution_count": 14,
   "id": "10e79efa",
   "metadata": {},
   "outputs": [],
   "source": [
    "@traceable\n",
    "def call_model(state: AgentState):\n",
    "    \"\"\"Invoke the model with the current conversation state.\"\"\"\n",
    "    response = model_react.invoke({\"scratch_pad\": state[\"messages\"]})\n",
    "    return {\"messages\": [response]}"
   ]
  },
  {
   "cell_type": "code",
   "execution_count": 15,
   "id": "b31ad3a4",
   "metadata": {},
   "outputs": [],
   "source": [
    "@traceable\n",
    "def should_continue(state: AgentState):\n",
    "    \"\"\"Determine whether to continue with tool use or end the conversation.\"\"\"\n",
    "    messages = state[\"messages\"]\n",
    "    last_message = messages[-1]\n",
    "    # If there is no function call, then we finish\n",
    "    if last_message.tool_calls:\n",
    "        return \"continue\"\n",
    "    # Otherwise if there is, we continue\n",
    "    else:\n",
    "        return \"end\""
   ]
  },
  {
   "cell_type": "code",
   "execution_count": 17,
   "id": "f6347738",
   "metadata": {},
   "outputs": [],
   "source": [
    "from langgraph.graph import StateGraph, END\n",
    "\n",
    "# Define a new graph\n",
    "workflow = StateGraph(AgentState)\n",
    "\n",
    "# Define the two nodes we will cycle between\n",
    "workflow.add_node(\"agent_node\", call_model)\n",
    "workflow.add_node(\"tools_node\", tool_node)\n",
    "    \n",
    "# Add edges between nodes\n",
    "workflow.add_edge(\"tools_node\", \"agent_node\")  # After tools, always go back to agent\n",
    "\n",
    "# Add conditional logic\n",
    "workflow.add_conditional_edges(\n",
    "    \"agent_node\",\n",
    "    should_continue,\n",
    "    {\n",
    "        \"continue\": \"tools_node\",  # If tools needed, go to tools node\n",
    "        \"end\": END,          # If done, end the conversation\n",
    "    },\n",
    ")\n",
    "\n",
    "# Set entry point\n",
    "workflow.set_entry_point(\"agent_node\")\n",
    "\n",
    "# Compile the graph\n",
    "graph = workflow.compile()"
   ]
  },
  {
   "cell_type": "code",
   "execution_count": 18,
   "id": "16710e43",
   "metadata": {},
   "outputs": [
    {
     "data": {
      "image/png": "[encoded data removed]",
      "text/plain": [
       "<langgraph.graph.state.CompiledStateGraph object at 0x0000012444DC7A10>"
      ]
     },
     "execution_count": 18,
     "metadata": {},
     "output_type": "execute_result"
    }
   ],
   "source": [
    "graph"
   ]
  },
  {
   "cell_type": "code",
   "execution_count": 19,
   "id": "ac45904e",
   "metadata": {},
   "outputs": [],
   "source": [
    "@traceable\n",
    "def print_stream(stream):\n",
    "    \"\"\"Helper function for formatting the stream nicely.\"\"\"\n",
    "    for s in stream:\n",
    "        message = s[\"messages\"][-1]\n",
    "        if isinstance(message, tuple):\n",
    "            print(message)\n",
    "        else:\n",
    "            message.pretty_print()\n"
   ]
  },
  {
   "cell_type": "code",
   "execution_count": 20,
   "id": "8c132da0",
   "metadata": {},
   "outputs": [],
   "source": [
    "@traceable\n",
    "def run_agent():    \n",
    "    inputs = {\"messages\": [HumanMessage(content=\"Add an exam to my calendar tomorrow at 10am\")]}\n",
    "    print_stream(graph.stream(inputs, stream_mode=\"values\"))"
   ]
  },
  {
   "cell_type": "code",
   "execution_count": null,
   "id": "31e10581",
   "metadata": {},
   "outputs": [],
   "source": [
    "run_agent()"
   ]
  }
 ],
 "metadata": {
  "kernelspec": {
   "display_name": "base",
   "language": "python",
   "name": "python3"
  },
  "language_info": {
   "codemirror_mode": {
    "name": "ipython",
    "version": 3
   },
   "file_extension": ".py",
   "mimetype": "text/x-python",
   "name": "python",
   "nbconvert_exporter": "python",
   "pygments_lexer": "ipython3",
   "version": "3.13.5"
  }
 },
 "nbformat": 4,
 "nbformat_minor": 5
}
